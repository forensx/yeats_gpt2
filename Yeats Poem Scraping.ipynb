{
 "cells": [
  {
   "cell_type": "code",
   "execution_count": 1,
   "metadata": {},
   "outputs": [],
   "source": [
    "import pandas as pd\n",
    "import numpy as np\n",
    "import bs4 as bs\n",
    "from tqdm import tqdm_notebook\n",
    "import urllib.request\n",
    "import time"
   ]
  },
  {
   "cell_type": "code",
   "execution_count": 2,
   "metadata": {},
   "outputs": [],
   "source": [
    "all_volumes = [\"https://www.gutenberg.org/files/38877/38877-h/38877-h.htm\", \"https://www.gutenberg.org/files/33887/33887-h/33887-h.htm\", \"https://www.gutenberg.org/files/32233/32233-h/32233-h.htm\", \"https://www.gutenberg.org/ebooks/10459\", \"https://www.gutenberg.org/files/14465/14465-h/14465-h.htm\", \"https://www.gutenberg.org/files/32884/32884-h/32884-h.htm\", \"https://www.gutenberg.org/files/32884/32884-h/32884-h.htm\", \"https://www.gutenberg.org/files/57584/57584-h/57584-h.htm\", \"https://www.gutenberg.org/files/5795/5795-h/5795-h.htm\", \"https://www.gutenberg.org/files/31763/31763-h/31763-h.htm\", \"https://www.gutenberg.org/files/30488/30488-h/30488-h.htm\", \"https://www.gutenberg.org/files/33505/33505-h/33505-h.htm\", \"https://www.gutenberg.org/files/36865/36865-h/36865-h.htm\", \"https://www.gutenberg.org/files/5167/5167-h/5167-h.htm\", \"https://www.gutenberg.org/files/41102/41102-h/41102-h.htm\", \"https://www.gutenberg.org/files/15153/15153-h/15153-h.htm\", \"https://www.gutenberg.org/files/33338/33338-h/33338-h.htm\", \"https://www.gutenberg.org/files/8094/8094-h/8094-h.htm\", \"https://www.gutenberg.org/files/49608/49608-h/49608-h.htm\", \"https://www.gutenberg.org/files/49609/49609-h/49609-h.htm\", \"https://www.gutenberg.org/files/49610/49610-h/49610-h.htm\", \"https://www.gutenberg.org/files/49611/49611-h/49611-h.htm\", \"https://www.gutenberg.org/files/49612/49612-h/49612-h.htm\", \"https://www.gutenberg.org/files/49613/49613-h/49613-h.htm\", \"https://www.gutenberg.org/files/49614/49614-h/49614-h.htm\", \"https://www.gutenberg.org/files/49615/49615-h/49615-h.htm\"]"
   ]
  },
  {
   "cell_type": "code",
   "execution_count": 3,
   "metadata": {},
   "outputs": [
    {
     "name": "stdout",
     "output_type": "stream",
     "text": [
      "26\n"
     ]
    }
   ],
   "source": [
    "print(len(all_volumes))"
   ]
  },
  {
   "cell_type": "code",
   "execution_count": 4,
   "metadata": {},
   "outputs": [
    {
     "name": "stdout",
     "output_type": "stream",
     "text": [
      "https://www.gutenberg.org/files/38877/38877-h/38877-h.htm\n"
     ]
    },
    {
     "data": {
      "application/vnd.jupyter.widget-view+json": {
       "model_id": "0086ebc925514cc2b0bb47b1a48fbe0d",
       "version_major": 2,
       "version_minor": 0
      },
      "text/plain": [
       "HBox(children=(IntProgress(value=0, max=25), HTML(value='')))"
      ]
     },
     "metadata": {},
     "output_type": "display_data"
    },
    {
     "name": "stdout",
     "output_type": "stream",
     "text": [
      "\n",
      "https://www.gutenberg.org/files/33887/33887-h/33887-h.htm\n"
     ]
    },
    {
     "data": {
      "application/vnd.jupyter.widget-view+json": {
       "model_id": "7db0130c0169405997e14b4dcbcf90c4",
       "version_major": 2,
       "version_minor": 0
      },
      "text/plain": [
       "HBox(children=(IntProgress(value=0, max=25), HTML(value='')))"
      ]
     },
     "metadata": {},
     "output_type": "display_data"
    },
    {
     "name": "stdout",
     "output_type": "stream",
     "text": [
      "\n",
      "https://www.gutenberg.org/files/32233/32233-h/32233-h.htm\n"
     ]
    },
    {
     "data": {
      "application/vnd.jupyter.widget-view+json": {
       "model_id": "26573ed9040d4f4d90e8c5803e09e9c6",
       "version_major": 2,
       "version_minor": 0
      },
      "text/plain": [
       "HBox(children=(IntProgress(value=0, max=25), HTML(value='')))"
      ]
     },
     "metadata": {},
     "output_type": "display_data"
    },
    {
     "name": "stdout",
     "output_type": "stream",
     "text": [
      "\n",
      "https://www.gutenberg.org/ebooks/10459\n"
     ]
    },
    {
     "data": {
      "application/vnd.jupyter.widget-view+json": {
       "model_id": "f0a7523fba92486492213aab74e16ff7",
       "version_major": 2,
       "version_minor": 0
      },
      "text/plain": [
       "HBox(children=(IntProgress(value=0, max=25), HTML(value='')))"
      ]
     },
     "metadata": {},
     "output_type": "display_data"
    },
    {
     "name": "stdout",
     "output_type": "stream",
     "text": [
      "\n",
      "https://www.gutenberg.org/files/14465/14465-h/14465-h.htm\n"
     ]
    },
    {
     "data": {
      "application/vnd.jupyter.widget-view+json": {
       "model_id": "ba13c009bf484e918baf500be9c5927a",
       "version_major": 2,
       "version_minor": 0
      },
      "text/plain": [
       "HBox(children=(IntProgress(value=0, max=25), HTML(value='')))"
      ]
     },
     "metadata": {},
     "output_type": "display_data"
    },
    {
     "name": "stdout",
     "output_type": "stream",
     "text": [
      "\n",
      "https://www.gutenberg.org/files/32884/32884-h/32884-h.htm\n"
     ]
    },
    {
     "data": {
      "application/vnd.jupyter.widget-view+json": {
       "model_id": "69bc78348e6e4cd9942b0896d2b4e489",
       "version_major": 2,
       "version_minor": 0
      },
      "text/plain": [
       "HBox(children=(IntProgress(value=0, max=25), HTML(value='')))"
      ]
     },
     "metadata": {},
     "output_type": "display_data"
    },
    {
     "name": "stdout",
     "output_type": "stream",
     "text": [
      "\n",
      "https://www.gutenberg.org/files/32884/32884-h/32884-h.htm\n"
     ]
    },
    {
     "data": {
      "application/vnd.jupyter.widget-view+json": {
       "model_id": "93652918033f45cc95696d5b634da090",
       "version_major": 2,
       "version_minor": 0
      },
      "text/plain": [
       "HBox(children=(IntProgress(value=0, max=25), HTML(value='')))"
      ]
     },
     "metadata": {},
     "output_type": "display_data"
    },
    {
     "name": "stdout",
     "output_type": "stream",
     "text": [
      "\n",
      "https://www.gutenberg.org/files/57584/57584-h/57584-h.htm\n"
     ]
    },
    {
     "data": {
      "application/vnd.jupyter.widget-view+json": {
       "model_id": "0e294791dd66414897b319e960cb1377",
       "version_major": 2,
       "version_minor": 0
      },
      "text/plain": [
       "HBox(children=(IntProgress(value=0, max=25), HTML(value='')))"
      ]
     },
     "metadata": {},
     "output_type": "display_data"
    },
    {
     "name": "stdout",
     "output_type": "stream",
     "text": [
      "\n",
      "https://www.gutenberg.org/files/5795/5795-h/5795-h.htm\n"
     ]
    },
    {
     "data": {
      "application/vnd.jupyter.widget-view+json": {
       "model_id": "5518d134673f442b93582b32dd7feb0d",
       "version_major": 2,
       "version_minor": 0
      },
      "text/plain": [
       "HBox(children=(IntProgress(value=0, max=25), HTML(value='')))"
      ]
     },
     "metadata": {},
     "output_type": "display_data"
    },
    {
     "name": "stdout",
     "output_type": "stream",
     "text": [
      "\n",
      "https://www.gutenberg.org/files/31763/31763-h/31763-h.htm\n"
     ]
    },
    {
     "data": {
      "application/vnd.jupyter.widget-view+json": {
       "model_id": "61603d036c29497390f57851f59dfaa3",
       "version_major": 2,
       "version_minor": 0
      },
      "text/plain": [
       "HBox(children=(IntProgress(value=0, max=25), HTML(value='')))"
      ]
     },
     "metadata": {},
     "output_type": "display_data"
    },
    {
     "name": "stdout",
     "output_type": "stream",
     "text": [
      "\n",
      "https://www.gutenberg.org/files/30488/30488-h/30488-h.htm\n"
     ]
    },
    {
     "data": {
      "application/vnd.jupyter.widget-view+json": {
       "model_id": "486356a37dcb4fcc97cea4d86512e269",
       "version_major": 2,
       "version_minor": 0
      },
      "text/plain": [
       "HBox(children=(IntProgress(value=0, max=25), HTML(value='')))"
      ]
     },
     "metadata": {},
     "output_type": "display_data"
    },
    {
     "name": "stdout",
     "output_type": "stream",
     "text": [
      "\n",
      "https://www.gutenberg.org/files/33505/33505-h/33505-h.htm\n"
     ]
    },
    {
     "data": {
      "application/vnd.jupyter.widget-view+json": {
       "model_id": "de7c4acbbf6344d5a2cb5250729137a8",
       "version_major": 2,
       "version_minor": 0
      },
      "text/plain": [
       "HBox(children=(IntProgress(value=0, max=25), HTML(value='')))"
      ]
     },
     "metadata": {},
     "output_type": "display_data"
    },
    {
     "name": "stdout",
     "output_type": "stream",
     "text": [
      "\n",
      "https://www.gutenberg.org/files/36865/36865-h/36865-h.htm\n"
     ]
    },
    {
     "data": {
      "application/vnd.jupyter.widget-view+json": {
       "model_id": "097d44f2911f4ed88d9504404b77e588",
       "version_major": 2,
       "version_minor": 0
      },
      "text/plain": [
       "HBox(children=(IntProgress(value=0, max=25), HTML(value='')))"
      ]
     },
     "metadata": {},
     "output_type": "display_data"
    },
    {
     "name": "stdout",
     "output_type": "stream",
     "text": [
      "\n",
      "https://www.gutenberg.org/files/5167/5167-h/5167-h.htm\n"
     ]
    },
    {
     "data": {
      "application/vnd.jupyter.widget-view+json": {
       "model_id": "8b195b6e21cd4eb6ac4f65dc9df5977e",
       "version_major": 2,
       "version_minor": 0
      },
      "text/plain": [
       "HBox(children=(IntProgress(value=0, max=25), HTML(value='')))"
      ]
     },
     "metadata": {},
     "output_type": "display_data"
    },
    {
     "name": "stdout",
     "output_type": "stream",
     "text": [
      "\n",
      "https://www.gutenberg.org/files/41102/41102-h/41102-h.htm\n"
     ]
    },
    {
     "data": {
      "application/vnd.jupyter.widget-view+json": {
       "model_id": "0b2c77fc26f54e26abc3a3ee976b5b9a",
       "version_major": 2,
       "version_minor": 0
      },
      "text/plain": [
       "HBox(children=(IntProgress(value=0, max=25), HTML(value='')))"
      ]
     },
     "metadata": {},
     "output_type": "display_data"
    },
    {
     "name": "stdout",
     "output_type": "stream",
     "text": [
      "\n",
      "https://www.gutenberg.org/files/15153/15153-h/15153-h.htm\n"
     ]
    },
    {
     "data": {
      "application/vnd.jupyter.widget-view+json": {
       "model_id": "e5874a59e5df4dc98003f551a92f9f54",
       "version_major": 2,
       "version_minor": 0
      },
      "text/plain": [
       "HBox(children=(IntProgress(value=0, max=25), HTML(value='')))"
      ]
     },
     "metadata": {},
     "output_type": "display_data"
    },
    {
     "name": "stdout",
     "output_type": "stream",
     "text": [
      "\n",
      "https://www.gutenberg.org/files/33338/33338-h/33338-h.htm\n"
     ]
    },
    {
     "data": {
      "application/vnd.jupyter.widget-view+json": {
       "model_id": "a26a6215311c4a1cb43d1c1f2b8a0553",
       "version_major": 2,
       "version_minor": 0
      },
      "text/plain": [
       "HBox(children=(IntProgress(value=0, max=25), HTML(value='')))"
      ]
     },
     "metadata": {},
     "output_type": "display_data"
    },
    {
     "name": "stdout",
     "output_type": "stream",
     "text": [
      "\n",
      "https://www.gutenberg.org/files/8094/8094-h/8094-h.htm\n"
     ]
    },
    {
     "data": {
      "application/vnd.jupyter.widget-view+json": {
       "model_id": "7532415961d345d886b7aaa4c87d03e8",
       "version_major": 2,
       "version_minor": 0
      },
      "text/plain": [
       "HBox(children=(IntProgress(value=0, max=25), HTML(value='')))"
      ]
     },
     "metadata": {},
     "output_type": "display_data"
    },
    {
     "name": "stdout",
     "output_type": "stream",
     "text": [
      "\n",
      "https://www.gutenberg.org/files/49608/49608-h/49608-h.htm\n"
     ]
    },
    {
     "data": {
      "application/vnd.jupyter.widget-view+json": {
       "model_id": "ef6295ad5b594bf4af3857dd2377450f",
       "version_major": 2,
       "version_minor": 0
      },
      "text/plain": [
       "HBox(children=(IntProgress(value=0, max=25), HTML(value='')))"
      ]
     },
     "metadata": {},
     "output_type": "display_data"
    },
    {
     "name": "stdout",
     "output_type": "stream",
     "text": [
      "\n",
      "https://www.gutenberg.org/files/49609/49609-h/49609-h.htm\n"
     ]
    },
    {
     "data": {
      "application/vnd.jupyter.widget-view+json": {
       "model_id": "b9f62298367c493ca6601e29dd42a619",
       "version_major": 2,
       "version_minor": 0
      },
      "text/plain": [
       "HBox(children=(IntProgress(value=0, max=25), HTML(value='')))"
      ]
     },
     "metadata": {},
     "output_type": "display_data"
    },
    {
     "name": "stdout",
     "output_type": "stream",
     "text": [
      "\n",
      "https://www.gutenberg.org/files/49610/49610-h/49610-h.htm\n"
     ]
    },
    {
     "data": {
      "application/vnd.jupyter.widget-view+json": {
       "model_id": "18658f16ea0b4849aacf31bf286bfd0c",
       "version_major": 2,
       "version_minor": 0
      },
      "text/plain": [
       "HBox(children=(IntProgress(value=0, max=25), HTML(value='')))"
      ]
     },
     "metadata": {},
     "output_type": "display_data"
    },
    {
     "name": "stdout",
     "output_type": "stream",
     "text": [
      "\n",
      "https://www.gutenberg.org/files/49611/49611-h/49611-h.htm\n"
     ]
    },
    {
     "data": {
      "application/vnd.jupyter.widget-view+json": {
       "model_id": "892d32a371e8473dab0df4ec99c885c6",
       "version_major": 2,
       "version_minor": 0
      },
      "text/plain": [
       "HBox(children=(IntProgress(value=0, max=25), HTML(value='')))"
      ]
     },
     "metadata": {},
     "output_type": "display_data"
    },
    {
     "name": "stdout",
     "output_type": "stream",
     "text": [
      "\n",
      "https://www.gutenberg.org/files/49612/49612-h/49612-h.htm\n"
     ]
    },
    {
     "data": {
      "application/vnd.jupyter.widget-view+json": {
       "model_id": "dcf5725a3f1a4f5e957c68cde79204dd",
       "version_major": 2,
       "version_minor": 0
      },
      "text/plain": [
       "HBox(children=(IntProgress(value=0, max=25), HTML(value='')))"
      ]
     },
     "metadata": {},
     "output_type": "display_data"
    },
    {
     "name": "stdout",
     "output_type": "stream",
     "text": [
      "\n",
      "https://www.gutenberg.org/files/49613/49613-h/49613-h.htm\n"
     ]
    },
    {
     "data": {
      "application/vnd.jupyter.widget-view+json": {
       "model_id": "f944fc1a15be4c52b67ef3fac17af960",
       "version_major": 2,
       "version_minor": 0
      },
      "text/plain": [
       "HBox(children=(IntProgress(value=0, max=25), HTML(value='')))"
      ]
     },
     "metadata": {},
     "output_type": "display_data"
    },
    {
     "name": "stdout",
     "output_type": "stream",
     "text": [
      "\n",
      "https://www.gutenberg.org/files/49614/49614-h/49614-h.htm\n"
     ]
    },
    {
     "data": {
      "application/vnd.jupyter.widget-view+json": {
       "model_id": "5558bd69fa5b43d29d373fd0a6be2172",
       "version_major": 2,
       "version_minor": 0
      },
      "text/plain": [
       "HBox(children=(IntProgress(value=0, max=25), HTML(value='')))"
      ]
     },
     "metadata": {},
     "output_type": "display_data"
    },
    {
     "name": "stdout",
     "output_type": "stream",
     "text": [
      "\n",
      "https://www.gutenberg.org/files/49615/49615-h/49615-h.htm\n"
     ]
    },
    {
     "data": {
      "application/vnd.jupyter.widget-view+json": {
       "model_id": "78b670a3f6704fc4b601e22030a12811",
       "version_major": 2,
       "version_minor": 0
      },
      "text/plain": [
       "HBox(children=(IntProgress(value=0, max=25), HTML(value='')))"
      ]
     },
     "metadata": {},
     "output_type": "display_data"
    },
    {
     "name": "stdout",
     "output_type": "stream",
     "text": [
      "\n"
     ]
    }
   ],
   "source": [
    "counter = 1\n",
    "for url in all_volumes:\n",
    "    print(url)\n",
    "    time.sleep(15)\n",
    "    source = urllib.request.urlopen('https://www.gutenberg.org/files/49609/49609-h/49609-h.htm').read()\n",
    "    soup = bs.BeautifulSoup(source)\n",
    "    poems = soup.find_all(\"div\", {\"class\": \"poetry-container\"})\n",
    "    for i in tqdm_notebook(range(len(poems))):\n",
    "        #print(\"------------ POEM BREAK #{} ------------\".format(i))\n",
    "        for stanza in poems[i].find_all(\"div\", {\"class\": \"stanza\"}):\n",
    "            verses = []\n",
    "            for verse in stanza.find_all(\"div\", {\"class\": \"verse\"}):\n",
    "                verses.append(verse.text)\n",
    "            full_poem = \" \".join(verses)\n",
    "            f = open(\"Poems/POEM_{}.txt\".format(counter), \"w\")\n",
    "            f.write(full_poem)\n",
    "            f.close()\n",
    "            counter += 1"
   ]
  },
  {
   "cell_type": "code",
   "execution_count": null,
   "metadata": {},
   "outputs": [],
   "source": []
  }
 ],
 "metadata": {
  "kernelspec": {
   "display_name": "Python 3",
   "language": "python",
   "name": "python3"
  },
  "language_info": {
   "codemirror_mode": {
    "name": "ipython",
    "version": 3
   },
   "file_extension": ".py",
   "mimetype": "text/x-python",
   "name": "python",
   "nbconvert_exporter": "python",
   "pygments_lexer": "ipython3",
   "version": "3.7.4"
  }
 },
 "nbformat": 4,
 "nbformat_minor": 2
}
